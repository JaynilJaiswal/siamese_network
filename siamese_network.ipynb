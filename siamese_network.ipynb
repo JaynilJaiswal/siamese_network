{
  "nbformat": 4,
  "nbformat_minor": 0,
  "metadata": {
    "colab": {
      "name": "siamese_network.ipynb",
      "version": "0.3.2",
      "provenance": []
    },
    "kernelspec": {
      "name": "python3",
      "display_name": "Python 3"
    },
    "accelerator": "TPU"
  },
  "cells": [
    {
      "cell_type": "code",
      "metadata": {
        "id": "XQBSJbSZZfWw",
        "colab_type": "code",
        "colab": {}
      },
      "source": [
        "import torch\n",
        "import torchvision\n",
        "import torch.nn as nn\n",
        "from torch.autograd import Variable\n",
        "import numpy as np\n",
        "import matplotlib.pyplot as plt\n",
        "%matplotlib inline\n"
      ],
      "execution_count": 0,
      "outputs": []
    },
    {
      "cell_type": "code",
      "metadata": {
        "id": "KhXSun6FZwjV",
        "colab_type": "code",
        "colab": {
          "base_uri": "https://localhost:8080/",
          "height": 35
        },
        "outputId": "7ddd7fa5-8487-437f-9327-1197b3aed208"
      },
      "source": [
        "cuda = torch.cuda.is_available() # True if cuda is available, False otherwise\n",
        "FloatTensor = torch.cuda.FloatTensor if cuda else torch.FloatTensor\n",
        "LongTensor = torch.cuda.LongTensor if cuda else torch.LongTensor\n",
        "print('Training on %s' % ('GPU' if cuda else 'CPU'))\n"
      ],
      "execution_count": 10,
      "outputs": [
        {
          "output_type": "stream",
          "text": [
            "Training on CPU\n"
          ],
          "name": "stdout"
        }
      ]
    },
    {
      "cell_type": "code",
      "metadata": {
        "id": "XakPQIIfZ0-F",
        "colab_type": "code",
        "colab": {}
      },
      "source": [
        "train_data = torchvision.datasets.MNIST(root='../data/', train=True, download=True)\n",
        "test_data = torchvision.datasets.MNIST(root='../data/', train=False, download=True)"
      ],
      "execution_count": 0,
      "outputs": []
    },
    {
      "cell_type": "code",
      "metadata": {
        "id": "hDNc-ARgZ5mC",
        "colab_type": "code",
        "colab": {}
      },
      "source": [
        "def make_pairs(data, labels, num=1000):\n",
        "    digits = {}\n",
        "    for i, j in enumerate(labels):\n",
        "        if not j in digits:\n",
        "            digits[j] = []\n",
        "        digits[j].append(i)\n",
        "\n",
        "    pairs, labels_ = [], []\n",
        "    for i in range(num):\n",
        "        if np.random.rand() >= .5: # same digit\n",
        "            digit = np.random.choice(range(10))\n",
        "            d1, d2 = np.random.choice(digits[digit], size=2, replace=False)\n",
        "            labels_.append(1)\n",
        "        else:\n",
        "            digit1, digit2 = np.random.choice(range(10), size=2, replace=False)\n",
        "            d1, d2 = np.random.choice(digits[digit1]), np.random.choice(digits[digit2])\n",
        "            labels_.append(0)\n",
        "        pairs.append(torch.cat([data[d1], data[d2]]).view(1, 56, 28))\n",
        "    return torch.cat(pairs), torch.LongTensor(labels_)"
      ],
      "execution_count": 0,
      "outputs": []
    },
    {
      "cell_type": "code",
      "metadata": {
        "id": "KUvUfUnid1oe",
        "colab_type": "code",
        "colab": {}
      },
      "source": [
        "batch = 100\n",
        "\n",
        "pairs_train, labels_train = make_pairs(train_data.train_data, train_data.train_labels, num=60000)\n",
        "pairs_test, labels_test = make_pairs(test_data.test_data, test_data.test_labels, num=10000)\n",
        "\n",
        "train = torch.utils.data.dataset.TensorDataset(pairs_train, labels_train)\n",
        "test = torch.utils.data.dataset.TensorDataset(pairs_test, labels_test)\n",
        "train_loader = torch.utils.data.DataLoader(train, batch_size=batch, shuffle=True)\n",
        "test_loader = torch.utils.data.DataLoader(test, batch_size=batch)\n"
      ],
      "execution_count": 0,
      "outputs": []
    },
    {
      "cell_type": "code",
      "metadata": {
        "id": "LM8FPeaSfKlt",
        "colab_type": "code",
        "colab": {}
      },
      "source": [
        "net = torch.nn.Sequential(\n",
        "        nn.Linear(28 * 28, 512),\n",
        "        nn.PReLU(512),\n",
        "        nn.BatchNorm1d(512),\n",
        "        nn.Linear(512, 512),\n",
        "        nn.PReLU(512),\n",
        "        nn.BatchNorm1d(512),\n",
        "        nn.Linear(512, 2)) # 2 = size of the representation (we choose 2 for visualization)\n",
        "\n",
        "\n",
        "bottom_net = torch.nn.Sequential(\n",
        "        nn.Linear(2, 32),\n",
        "        nn.PReLU(32),\n",
        "        nn.Linear(32, 2))\n",
        "\n",
        "net = net.type(FloatTensor)\n",
        "bottom_net = bottom_net.type(FloatTensor)"
      ],
      "execution_count": 0,
      "outputs": []
    },
    {
      "cell_type": "code",
      "metadata": {
        "id": "f-PZahkDfLs0",
        "colab_type": "code",
        "colab": {}
      },
      "source": [
        "params = [x for x in net.parameters()] + [x for x in bottom_net.parameters()]\n",
        "criterion = nn.CrossEntropyLoss()\n",
        "optimizer = torch.optim.Adam(params=params, lr=0.001)\n"
      ],
      "execution_count": 0,
      "outputs": []
    },
    {
      "cell_type": "code",
      "metadata": {
        "id": "jfXiZb6HfWWT",
        "colab_type": "code",
        "colab": {}
      },
      "source": [
        "epochs = 5\n",
        "train_size = int(labels_train.size()[0])\n",
        "test_size = int(labels_test.size()[0])\n",
        "accuracy = 0.\n",
        "\n",
        "for i in range(epochs):\n",
        "    # train network\n",
        "    for j, (images, labels) in enumerate(train_loader):\n",
        "        net.train()\n",
        "        bottom_net.train()\n",
        "        \n",
        "        i1, i2 = images.view(batch, -1).split(28 * 28, dim=1)\n",
        "        i1 = Variable(i1.type(FloatTensor))\n",
        "        i2 = Variable(i2.type(FloatTensor))\n",
        "        labels = Variable(labels).type(LongTensor)\n",
        "\n",
        "        net.zero_grad()\n",
        "        bottom_net.zero_grad()\n",
        "        output1 = net(i1)\n",
        "        output2 = net(i2)\n",
        "        output = bottom_net((output1 - output2) ** 2)\n",
        "        loss = criterion(output, labels)\n",
        "        loss.backward()\n",
        "        optimizer.step()\n",
        "            \n",
        "        # test network\n",
        "        if (j + 1) % 600 == 0:\n",
        "            net.eval()\n",
        "            bottom_net.eval()\n",
        "            for k, (images, labels) in enumerate(test_loader):\n",
        "                i1, i2 = images.view(batch, -1).split(28 * 28, dim=1)\n",
        "                i1 = Variable(i1.type(FloatTensor))\n",
        "                i2 = Variable(i2.type(FloatTensor))\n",
        "                labels = Variable(labels).type(LongTensor)\n",
        "                output1 = net(i1)\n",
        "                output2 = net(i2)\n",
        "                output = bottom_net((output1 - output2) ** 2)\n",
        "                _, predicted = torch.max(output, 1)\n",
        "                accuracy += torch.sum(torch.eq(predicted, labels).float()).data[0] / test_size\n",
        "            print('[TEST] Epoch %i/%i [step %i/%i] accuracy: %.3f' % (i + 1, epochs, j + 1, train_size / batch, accuracy))\n",
        "            accuracy = 0.\n"
      ],
      "execution_count": 0,
      "outputs": []
    },
    {
      "cell_type": "code",
      "metadata": {
        "id": "f_2kk1tZfoup",
        "colab_type": "code",
        "colab": {}
      },
      "source": [
        "images = Variable(test_data.test_data).view(test_size, 28 * 28).type(FloatTensor)\n",
        "labels = test_data.test_labels.numpy()\n",
        "embedding = net(images).data.cpu().numpy()\n",
        "plt.scatter(*zip(*embedding), c=labels)\n",
        "plt.xlim(-15, 15)\n",
        "plt.ylim(-15, 15);\n"
      ],
      "execution_count": 0,
      "outputs": []
    }
  ]
}