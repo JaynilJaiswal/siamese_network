{
  "nbformat": 4,
  "nbformat_minor": 0,
  "metadata": {
    "colab": {
      "name": "siamese_network.ipynb",
      "version": "0.3.2",
      "provenance": [],
      "collapsed_sections": [],
      "include_colab_link": true
    },
    "kernelspec": {
      "name": "python3",
      "display_name": "Python 3"
    },
    "accelerator": "GPU"
  },
  "cells": [
    {
      "cell_type": "markdown",
      "metadata": {
        "id": "view-in-github",
        "colab_type": "text"
      },
      "source": [
        "<a href=\"https://colab.research.google.com/github/JaynilJaiswal/siamese_network/blob/master/mnist_siamese_network.ipynb\" target=\"_parent\"><img src=\"https://colab.research.google.com/assets/colab-badge.svg\" alt=\"Open In Colab\"/></a>"
      ]
    },
    {
      "cell_type": "code",
      "metadata": {
        "id": "XQBSJbSZZfWw",
        "colab_type": "code",
        "colab": {}
      },
      "source": [
        "import torch\n",
        "import torchvision\n",
        "import torch.nn as nn\n",
        "from torch.autograd import Variable\n",
        "import numpy as np\n",
        "import matplotlib.pyplot as plt\n",
        "%matplotlib inline\n"
      ],
      "execution_count": 0,
      "outputs": []
    },
    {
      "cell_type": "code",
      "metadata": {
        "id": "KhXSun6FZwjV",
        "colab_type": "code",
        "outputId": "0a690db5-e638-4a85-9792-12ab7baf80db",
        "colab": {
          "base_uri": "https://localhost:8080/",
          "height": 35
        }
      },
      "source": [
        "cuda = torch.cuda.is_available() # True if cuda is available, False otherwise\n",
        "FloatTensor = torch.cuda.FloatTensor if cuda else torch.FloatTensor\n",
        "LongTensor = torch.cuda.LongTensor if cuda else torch.LongTensor\n",
        "print('Training on %s' % ('GPU' if cuda else 'CPU'))\n"
      ],
      "execution_count": 2,
      "outputs": [
        {
          "output_type": "stream",
          "text": [
            "Training on GPU\n"
          ],
          "name": "stdout"
        }
      ]
    },
    {
      "cell_type": "code",
      "metadata": {
        "id": "XakPQIIfZ0-F",
        "colab_type": "code",
        "colab": {
          "base_uri": "https://localhost:8080/",
          "height": 272
        },
        "outputId": "f9600c52-7dc4-4cec-9493-0480073d3c72"
      },
      "source": [
        "train_data = torchvision.datasets.MNIST(root='../data/', train=True, download=True)\n",
        "test_data = torchvision.datasets.MNIST(root='../data/', train=False, download=True)"
      ],
      "execution_count": 3,
      "outputs": [
        {
          "output_type": "stream",
          "text": [
            "\r0it [00:00, ?it/s]"
          ],
          "name": "stderr"
        },
        {
          "output_type": "stream",
          "text": [
            "Downloading http://yann.lecun.com/exdb/mnist/train-images-idx3-ubyte.gz to ../data/MNIST/raw/train-images-idx3-ubyte.gz\n"
          ],
          "name": "stdout"
        },
        {
          "output_type": "stream",
          "text": [
            "9920512it [00:05, 1814215.55it/s]                             \n"
          ],
          "name": "stderr"
        },
        {
          "output_type": "stream",
          "text": [
            "Extracting ../data/MNIST/raw/train-images-idx3-ubyte.gz\n"
          ],
          "name": "stdout"
        },
        {
          "output_type": "stream",
          "text": [
            "32768it [00:00, 327206.78it/s]\n",
            "0it [00:00, ?it/s]"
          ],
          "name": "stderr"
        },
        {
          "output_type": "stream",
          "text": [
            "Downloading http://yann.lecun.com/exdb/mnist/train-labels-idx1-ubyte.gz to ../data/MNIST/raw/train-labels-idx1-ubyte.gz\n",
            "Extracting ../data/MNIST/raw/train-labels-idx1-ubyte.gz\n",
            "Downloading http://yann.lecun.com/exdb/mnist/t10k-images-idx3-ubyte.gz to ../data/MNIST/raw/t10k-images-idx3-ubyte.gz\n"
          ],
          "name": "stdout"
        },
        {
          "output_type": "stream",
          "text": [
            "1654784it [00:00, 5755619.61it/s]                           \n",
            "8192it [00:00, 129085.08it/s]\n"
          ],
          "name": "stderr"
        },
        {
          "output_type": "stream",
          "text": [
            "Extracting ../data/MNIST/raw/t10k-images-idx3-ubyte.gz\n",
            "Downloading http://yann.lecun.com/exdb/mnist/t10k-labels-idx1-ubyte.gz to ../data/MNIST/raw/t10k-labels-idx1-ubyte.gz\n",
            "Extracting ../data/MNIST/raw/t10k-labels-idx1-ubyte.gz\n",
            "Processing...\n",
            "Done!\n"
          ],
          "name": "stdout"
        }
      ]
    },
    {
      "cell_type": "code",
      "metadata": {
        "id": "hDNc-ARgZ5mC",
        "colab_type": "code",
        "colab": {}
      },
      "source": [
        "def make_pairs(data, labels, num=1000):\n",
        "#     print (labels)\n",
        "    digits = {}\n",
        "    keys  = range(0,10)\n",
        "    for i in keys:\n",
        "      digits[i]=[]\n",
        "#     print(digits[1])\n",
        "    for i, j in enumerate(labels):\n",
        "#         print (i,j.item()) \n",
        "        digits[j.item()].append(int(i))\n",
        "#     l=(0)\n",
        "#     print(digits)\n",
        "    pairs, labels_ = [], []\n",
        "    for i in range(int(num*0.5)):\n",
        "#         if np.random.rand() >= .5: # same digit\n",
        "          digit = np.random.choice(range(10))\n",
        "          d1 = np.random.choice(digits[digit][:])\n",
        "          d2 = np.random.choice(digits[digit][:])\n",
        "          labels_.append(1)\n",
        "          pairs.append(torch.cat([data[d1], data[d2]]).view(1, 56, 28))\n",
        "\n",
        "#         else:\n",
        "    for i in range(int(num*0.5)):\n",
        "          digit1 = np.random.choice(range(10))\n",
        "          if digit1!=9:\n",
        "            digit2 = digit1 + 1\n",
        "          else:\n",
        "            digit2=digit - 1\n",
        "          d1 = np.random.choice(digits[digit1])\n",
        "          d2 = np.random.choice(digits[digit2])\n",
        "          labels_.append(0)\n",
        "          pairs.append(torch.cat([data[d1], data[d2]]).view(1, 56, 28))\n",
        "    return torch.cat(pairs), torch.LongTensor(labels_)"
      ],
      "execution_count": 0,
      "outputs": []
    },
    {
      "cell_type": "code",
      "metadata": {
        "id": "KUvUfUnid1oe",
        "colab_type": "code",
        "colab": {
          "base_uri": "https://localhost:8080/",
          "height": 163
        },
        "outputId": "2349d7af-d35f-4996-a6ea-d1faaa8429e4"
      },
      "source": [
        "batch = 100\n",
        "\n",
        "pairs_train, labels_train = make_pairs(train_data.train_data, train_data.train_labels, num=60000)\n",
        "pairs_test, labels_test = make_pairs(test_data.test_data, test_data.test_labels, num=10000)\n",
        "\n",
        "train = torch.utils.data.dataset.TensorDataset(pairs_train, labels_train)\n",
        "test = torch.utils.data.dataset.TensorDataset(pairs_test, labels_test)\n",
        "train_loader = torch.utils.data.DataLoader(train, batch_size=batch, shuffle=True)\n",
        "test_loader = torch.utils.data.DataLoader(test, batch_size=batch)\n"
      ],
      "execution_count": 32,
      "outputs": [
        {
          "output_type": "stream",
          "text": [
            "/usr/local/lib/python3.6/dist-packages/torchvision/datasets/mnist.py:53: UserWarning: train_data has been renamed data\n",
            "  warnings.warn(\"train_data has been renamed data\")\n",
            "/usr/local/lib/python3.6/dist-packages/torchvision/datasets/mnist.py:43: UserWarning: train_labels has been renamed targets\n",
            "  warnings.warn(\"train_labels has been renamed targets\")\n",
            "/usr/local/lib/python3.6/dist-packages/torchvision/datasets/mnist.py:58: UserWarning: test_data has been renamed data\n",
            "  warnings.warn(\"test_data has been renamed data\")\n",
            "/usr/local/lib/python3.6/dist-packages/torchvision/datasets/mnist.py:48: UserWarning: test_labels has been renamed targets\n",
            "  warnings.warn(\"test_labels has been renamed targets\")\n"
          ],
          "name": "stderr"
        }
      ]
    },
    {
      "cell_type": "code",
      "metadata": {
        "id": "LM8FPeaSfKlt",
        "colab_type": "code",
        "colab": {}
      },
      "source": [
        "net = torch.nn.Sequential(\n",
        "        nn.Linear(28 * 28, 512),\n",
        "        nn.PReLU(512),\n",
        "        nn.BatchNorm1d(512),\n",
        "        nn.Linear(512, 512),\n",
        "        nn.PReLU(512),\n",
        "        nn.BatchNorm1d(512),\n",
        "        nn.Linear(512, 2)) # 2 = size of the representation (we choose 2 for visualization)\n",
        "\n",
        "\n",
        "bottom_net = torch.nn.Sequential(\n",
        "        nn.Linear(2, 32),\n",
        "        nn.PReLU(32),\n",
        "        nn.Linear(32, 2))\n",
        "\n",
        "net = net.type(FloatTensor)\n",
        "bottom_net = bottom_net.type(FloatTensor)"
      ],
      "execution_count": 0,
      "outputs": []
    },
    {
      "cell_type": "code",
      "metadata": {
        "id": "f-PZahkDfLs0",
        "colab_type": "code",
        "colab": {}
      },
      "source": [
        "params = [x for x in net.parameters()] + [x for x in bottom_net.parameters()]\n",
        "criterion = nn.CrossEntropyLoss()\n",
        "optimizer = torch.optim.Adam(params=params, lr=0.001)\n"
      ],
      "execution_count": 0,
      "outputs": []
    },
    {
      "cell_type": "code",
      "metadata": {
        "id": "jfXiZb6HfWWT",
        "colab_type": "code",
        "colab": {
          "base_uri": "https://localhost:8080/",
          "height": 108
        },
        "outputId": "78150b15-9afc-4329-de5f-0f53efbda6c0"
      },
      "source": [
        "epochs = 5\n",
        "train_size = int(labels_train.size()[0])\n",
        "test_size = int(labels_test.size()[0])\n",
        "accuracy = 0.\n",
        "\n",
        "for i in range(epochs):\n",
        "    # train network\n",
        "    for j, (images, labels) in enumerate(train_loader):\n",
        "        net.train()\n",
        "        bottom_net.train()\n",
        "        \n",
        "        i1, i2 = images.view(batch, -1).split(28 * 28, dim=1)\n",
        "        i1 = Variable(i1.type(FloatTensor))\n",
        "        i2 = Variable(i2.type(FloatTensor))\n",
        "        labels = Variable(labels).type(LongTensor)\n",
        "\n",
        "        net.zero_grad()\n",
        "        bottom_net.zero_grad()\n",
        "        output1 = net(i1)\n",
        "        output2 = net(i2)\n",
        "        output = bottom_net((output1 - output2) ** 2)\n",
        "        loss = criterion(output, labels)\n",
        "        loss.backward()\n",
        "        optimizer.step()\n",
        "            \n",
        "        # test network\n",
        "        if (j + 1) % 600 == 0:\n",
        "            net.eval()\n",
        "            bottom_net.eval()\n",
        "            for k, (images, labels) in enumerate(test_loader):\n",
        "                i1, i2 = images.view(batch, -1).split(28 * 28, dim=1)\n",
        "                i1 = Variable(i1.type(FloatTensor))\n",
        "                i2 = Variable(i2.type(FloatTensor))\n",
        "                labels = Variable(labels).type(LongTensor)\n",
        "                output1 = net(i1)\n",
        "                output2 = net(i2)\n",
        "                output = bottom_net((output1 - output2) ** 2)\n",
        "                _, predicted = torch.max(output, 1)\n",
        "                equality= predicted == labels\n",
        "#                 print(torch.sum(equality).it)\n",
        "                accuracy += torch.sum(equality).item() / test_size\n",
        "#                 accuracy += torch.sum(torch.eq(predicted, labels)).data[0].item() / test_size\n",
        "            print('[TEST] Epoch %i/%i [step %i/%i] accuracy: %.3f' % (i + 1, epochs, j + 1, train_size / batch, accuracy))\n",
        "            accuracy = 0.\n"
      ],
      "execution_count": 35,
      "outputs": [
        {
          "output_type": "stream",
          "text": [
            "[TEST] Epoch 1/5 [step 600/600] accuracy: 0.971\n",
            "[TEST] Epoch 2/5 [step 600/600] accuracy: 0.978\n",
            "[TEST] Epoch 3/5 [step 600/600] accuracy: 0.977\n",
            "[TEST] Epoch 4/5 [step 600/600] accuracy: 0.983\n",
            "[TEST] Epoch 5/5 [step 600/600] accuracy: 0.982\n"
          ],
          "name": "stdout"
        }
      ]
    },
    {
      "cell_type": "code",
      "metadata": {
        "id": "f_2kk1tZfoup",
        "colab_type": "code",
        "colab": {
          "base_uri": "https://localhost:8080/",
          "height": 342
        },
        "outputId": "d13f0ed2-2cb0-4c6f-bebe-a6eca6197ed2"
      },
      "source": [
        "images = Variable(test_data.test_data).view(test_size, 28 * 28).type(FloatTensor)\n",
        "labels = test_data.test_labels.numpy()\n",
        "embedding = net(images).data.cpu().numpy()\n",
        "plt.scatter(*zip(*embedding), c=labels)\n",
        "plt.xlim(-15, 15)\n",
        "plt.ylim(-15, 15);\n"
      ],
      "execution_count": 36,
      "outputs": [
        {
          "output_type": "stream",
          "text": [
            "/usr/local/lib/python3.6/dist-packages/torchvision/datasets/mnist.py:58: UserWarning: test_data has been renamed data\n",
            "  warnings.warn(\"test_data has been renamed data\")\n",
            "/usr/local/lib/python3.6/dist-packages/torchvision/datasets/mnist.py:48: UserWarning: test_labels has been renamed targets\n",
            "  warnings.warn(\"test_labels has been renamed targets\")\n"
          ],
          "name": "stderr"
        },
        {
          "output_type": "display_data",
          "data": {
            "image/png": "[encoded data removed]",
            "text/plain": [
              "<Figure size 432x288 with 1 Axes>"
            ]
          },
          "metadata": {
            "tags": []
          }
        }
      ]
    },
    {
      "cell_type": "code",
      "metadata": {
        "id": "GTCMrMONQpH_",
        "colab_type": "code",
        "colab": {}
      },
      "source": [
        "# "
      ],
      "execution_count": 0,
      "outputs": []
    }
  ]
}